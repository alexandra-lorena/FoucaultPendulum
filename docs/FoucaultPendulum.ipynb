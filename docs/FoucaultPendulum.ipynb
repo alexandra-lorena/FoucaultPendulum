{
 "cells": [
  {
   "metadata": {},
   "cell_type": "markdown",
   "source": [
    "# Equations and theoretical model\n",
    "\n",
    "### Theoretical model\n",
    "<div>\n",
    "<img src=\"img/pendulum_coords.png\"/>\n",
    "<img src=\"img/polar_coords.png\"/>\n",
    "</div>\n",
    "<br>\n",
    "\n",
    "The cartesian coordinates o-xyz represent the pendulum's coordinate system. In order to describe its position we use the angles $\\alpha$ and $\\beta$:\n",
    "\n",
    "> x = L $\\sin\\alpha \\cos\\beta$\n",
    "\n",
    "> y = L $sin\\alpha \\sin\\beta$\n",
    "\n",
    "> z = $h_{0} - L \\cos\\alpha$\n",
    "\n",
    "Where: L represents the pendulum's length and $h_{0}$ the distance from the center of the Earth to the pendulum's bob\n",
    "<br>\n",
    "\n",
    "Besides the pendulum's oscillating motion, it also rotates with the earth. In order to describe the angular velocity we require an assistant coordinate system O-XYZ. Here, the pendulum sits on a fixed point described using the spherical coordinates $\\phi$ (latitude) and $\\theta$ (longitude)."
   ],
   "id": "f0780549beb268be"
  },
  {
   "metadata": {},
   "cell_type": "markdown",
   "source": [
    "### Equations\n",
    "\n",
    "In order to compute the pendulum's coordinates, we use the following two coupled second order differential equations to find $\\alpha$ and $\\beta$:\n",
    "\n",
    "> $\\ddot{\\alpha}  -  \\sin\\alpha \\cos\\alpha \\dot{\\beta}^2  -  2 \\omega \\sin\\alpha (\\cos\\phi \\sin\\alpha \\cos\\beta + \\sin\\phi \\cos\\alpha) \\dot{\\beta}  +  \\frac{g}{l} \\sin\\alpha$ = 0\n",
    "\n",
    "> $\\sin\\alpha \\ddot{\\beta}  +  \\cos\\alpha \\dot{\\alpha} \\dot{\\beta}  +  2 \\omega (\\cos\\phi \\sin\\alpha \\cos\\beta + \\sin\\phi \\cos\\alpha) \\dot{\\alpha}$ = 0\n",
    " \n",
    "Where: $\\omega$ is the Earth's angular velocity and <i>g</> is the Earth's gravitational acceleration\n",
    "<br>\n",
    "\n",
    "To solve the ODEs we utilize the function <code>odeint()</code> from <code>scipy.integrate</code>:"
   ],
   "id": "f7010d2f9feff3b2"
  },
  {
   "metadata": {},
   "cell_type": "code",
   "outputs": [],
   "execution_count": null,
   "source": [
    "from scipy.integrate import odeint\n",
    "\n",
    "def solve_ode(ode, initial_conditions, time_values, index):\n",
    "    solution = odeint(func = ode, y0 = initial_conditions, t = time_values)\n",
    "    return solution.T[index]"
   ],
   "id": "3c434a595cae530b"
  },
  {
   "metadata": {},
   "cell_type": "markdown",
   "source": [
    "The first parameter required is a callable function that contains our ODEs. The caveat of <code>odeint</code> is that it can only solve first order differential equations. As such, we have to rewrite our equations so that it only contains first order ODEs.\n",
    "\n",
    "We start by defining two new variables, <i>x</i> and <i>y</i>, as such:\n",
    "(Note that x and y in this situation are not related to the pendulum's coordinates x and y)\n",
    "\n",
    "> x = $\\dot{\\alpha}  \\to  \\dot{x} = \\ddot{\\alpha}$\n",
    "\n",
    "> y = $\\dot{\\beta}  \\to  \\dot{y} = \\ddot{\\beta}$\n",
    "\n",
    "<br>\n",
    "And now we can rewrite our initial equations using x and y:\n",
    "\n",
    "> $\\dot{x} = \\sin\\alpha \\cos\\alpha y^2  +  2 \\omega \\sin\\alpha (\\cos\\phi \\sin\\alpha \\cos\\beta + \\sin\\phi \\cos\\alpha) y  -  \\frac{g}{l} \\sin\\alpha$\n",
    "\n",
    "> $\\dot{y} = ( - 2 \\cos\\alpha x y  -  2 \\omega (\\cos\\phi \\sin\\alpha \\cos\\beta + \\sin\\phi \\cos\\alpha) x ) \\sin\\alpha$ \n",
    "\n",
    "<br>\n",
    "And now using these four equations we can define our callable function <code>ode()</code>: "
   ],
   "id": "2d184b27f91aa4c4"
  },
  {
   "metadata": {},
   "cell_type": "code",
   "outputs": [],
   "execution_count": null,
   "source": [
    "import numpy as np\n",
    "\n",
    "def ode(initial_conditions, t):\n",
    "    a, b, x, y = initial_conditions\n",
    "    da, db = x, y\n",
    "    dx = (np.sin(a) * np.cos(a) * y**2 + 2 * omega * np.sin(a) * (np.cos(phi) * np.sin(a) * np.cos(b) + np.sin(phi) * np.cos(a)) * y\n",
    "         - (g/L) * np.sin(a))\n",
    "    dy = ((-2 * np.cos(a) * x * y - 2 * omega * (np.cos(phi) * np.sin(a) * np.cos(b) + np.sin(phi) * np.cos(a)) * x)\n",
    "         / np.sin(a))\n",
    "    return [da, db, dx, dy]"
   ],
   "id": "889ca66db5791ca3"
  },
  {
   "metadata": {},
   "cell_type": "markdown",
   "source": [
    "Where a, b, x, y are $\\alpha$, $\\beta$, <i>x</i>, <i>y</i> and da, db, dx, dy are $\\dot{\\alpha}$, $\\dot{\\beta}$, $\\dot{x}$, $\\dot{y}$. \n",
    "<br>\n",
    "\n",
    "The function <code>ode</code> gets called by <code?odeint</code> with the parameters: <i>initial_conditions</i> which is an array that contains the initial conditions on y, and t, an array that contains a sequance of monotonically increasing time points for which to solve for y.\n",
    "\n",
    "Besides the initial condition, the equations also require the constants: phi, omega, g and L. The default values are:"
   ],
   "id": "c41d2f9a8de49627"
  },
  {
   "metadata": {},
   "cell_type": "code",
   "outputs": [],
   "execution_count": null,
   "source": [
    "# Constants\n",
    "L = 30 #Length of pendulum in meters\n",
    "g = 9.81 #Gravitational acceleration, m/s^2\n",
    "omega = 7.27e-5 #Angular velocity of Earth, rad/s\n",
    "phi = np.radians(45) #φ,Latitude of pendulum\n",
    "\n",
    "# Initial conditions\n",
    "a_0 = np.radians(10)\n",
    "b_0 = np.radians(0)\n",
    "x_0 = 0.1\n",
    "y_0 = 0.1\n",
    "initial_conditions = [a_0, b_0, x_0, y_0]\n",
    "\n",
    "# Time interval\n",
    "start_time = 0\n",
    "end_time = 1000\n",
    "time_values = np.arange(start = start_time, stop = end_time, step = 0.01)"
   ],
   "id": "225cad8fdb74d404"
  }
 ],
 "metadata": {
  "kernelspec": {
   "display_name": "Python 3",
   "language": "python",
   "name": "python3"
  },
  "language_info": {
   "codemirror_mode": {
    "name": "ipython",
    "version": 2
   },
   "file_extension": ".py",
   "mimetype": "text/x-python",
   "name": "python",
   "nbconvert_exporter": "python",
   "pygments_lexer": "ipython2",
   "version": "2.7.6"
  }
 },
 "nbformat": 4,
 "nbformat_minor": 5
}
