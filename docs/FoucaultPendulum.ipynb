{
 "cells": [
  {
   "metadata": {},
   "cell_type": "markdown",
   "source": [
    "# Equations and theoretical model\n",
    "\n",
    "#### Theoretical model\n",
    "<div>\n",
    "<img src=\"img/pendulum_coords.png\" style=\"margin-right:10px\"//>\n",
    "<img src=\"img/polar_coords.png\"/>\n",
    "</div>\n",
    "<br>\n",
    "\n",
    "The cartesian coordinates o-xyz represent the pendulum's coordinate system. In order to describe its position we use the angles $\\alpha$ and $\\beta$:\n",
    "> x = L $\\sin$$\\alpha$ $\\cos$$\\beta$\n",
    "\n",
    "> y = L $sin$$\\alpha$ $\\sin$$\\beta$\n",
    "\n",
    "> z = $h_{0}$ - L $\\cos$$\\alpha$\n",
    "\n",
    "\n",
    "Where: L represents the pendulum's length\n",
    "<br>\n",
    "\n",
    "Besides the pendulum's oscillating motion, it also rotates with the earth. In order to describe the angular velocity we require an assistant coordinate system O-XYZ. Here, the pendulum sits on a fixed point described using the spherical coordinates $\\phi$ (latitude) and $\\theta$ (longitude)."
   ],
   "id": "f0780549beb268be"
  }
 ],
 "metadata": {
  "kernelspec": {
   "display_name": "Python 3",
   "language": "python",
   "name": "python3"
  },
  "language_info": {
   "codemirror_mode": {
    "name": "ipython",
    "version": 2
   },
   "file_extension": ".py",
   "mimetype": "text/x-python",
   "name": "python",
   "nbconvert_exporter": "python",
   "pygments_lexer": "ipython2",
   "version": "2.7.6"
  }
 },
 "nbformat": 4,
 "nbformat_minor": 5
}
